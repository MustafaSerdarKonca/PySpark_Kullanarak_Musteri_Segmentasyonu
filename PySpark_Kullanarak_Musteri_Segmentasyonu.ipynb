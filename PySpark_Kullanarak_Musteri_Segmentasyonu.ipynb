{
 "cells": [
  {
   "cell_type": "markdown",
   "metadata": {},
   "source": [
    "# Adım 1: SparkSessionGerekli Kütüphaneleri Ekleme ve Yaratma\n",
    "Gerekli kütüphanelerimiz ekliyoruz. SparkSession, Spark'taki tüm işlevlere bir giriş noktasıdır ve PySpark'ta bir veri çerçevesi oluşturmak istiyorsanız gereklidir."
   ]
  },
  {
   "cell_type": "code",
   "execution_count": 244,
   "metadata": {},
   "outputs": [],
   "source": [
    "from pyspark.ml.clustering import KMeans\n",
    "from pyspark.ml.evaluation import ClusteringEvaluator\n",
    "import numpy as np\n",
    "from pyspark.sql import SparkSession\n",
    "from pyspark.sql.functions import *\n",
    "from pyspark.sql.types import *\n",
    "from pyspark.ml.feature import VectorAssembler\n",
    "from pyspark.ml.feature import StandardScaler\n",
    "import pandas as pd\n",
    "import pylab as pl\n",
    "import matplotlib.pyplot as plt\n",
    "import seaborn as sns\n",
    "\n",
    "import warnings\n",
    "warnings.filterwarnings('ignore')"
   ]
  },
  {
   "cell_type": "code",
   "execution_count": 245,
   "metadata": {},
   "outputs": [],
   "source": [
    "spark = SparkSession.builder.appName(\"Final_Odevi\").getOrCreate()"
   ]
  },
  {
   "cell_type": "markdown",
   "metadata": {},
   "source": [
    "Bu kod, PySpark'i kullanarak \"spark\" adlı bir SparkSession nesnesi oluşturur.\n",
    "\n",
    "- appName parametresi, uygulamanın adını \"Final_Odevi\" olarak ayarlar.\n",
    "\n",
    "- SparkSession.builder, yığın dışı belleği etkinleştirir ve yığın dışı belleğin boyutunu 10 gigabayt olarak ayarlar.\n",
    "\n",
    "- Son olarak, getOrCreate() yöntemi mevcut bir SparkSession döndürür veya yoksa yeni bir tane oluşturur."
   ]
  },
  {
   "cell_type": "markdown",
   "metadata": {},
   "source": [
    "# Adım 2: DataFrame Oluşturma"
   ]
  },
  {
   "cell_type": "code",
   "execution_count": 246,
   "metadata": {},
   "outputs": [],
   "source": [
    "df = spark.read.csv('eCommerce.csv', header=True, escape=\"\\\"\")"
   ]
  },
  {
   "cell_type": "markdown",
   "metadata": {},
   "source": [
    "Csv dosyasındaki virgülleri avoid edebilmek için bir escape karakteri tanımladık.\n",
    "\n",
    "Show() işlevini kullanarak veri çerçevesinin başına bir göz atalım"
   ]
  },
  {
   "cell_type": "code",
   "execution_count": 247,
   "metadata": {},
   "outputs": [
    {
     "name": "stdout",
     "output_type": "stream",
     "text": [
      "+---------+---------+-----------------------------------+--------+------------+---------+----------+--------------+\n",
      "\n",
      "|InvoiceNo|StockCode|Description                        |Quantity|InvoiceDate |UnitPrice|CustomerID|Country       |\n",
      "\n",
      "+---------+---------+-----------------------------------+--------+------------+---------+----------+--------------+\n",
      "\n",
      "|536365   |85123A   |WHITE HANGING HEART T-LIGHT HOLDER |6       |12/1/10 8:26|2.55     |17850     |United Kingdom|\n",
      "\n",
      "|536365   |71053    |WHITE METAL LANTERN                |6       |12/1/10 8:26|3.39     |17850     |United Kingdom|\n",
      "\n",
      "|536365   |84406B   |CREAM CUPID HEARTS COAT HANGER     |8       |12/1/10 8:26|2.75     |17850     |United Kingdom|\n",
      "\n",
      "|536365   |84029G   |KNITTED UNION FLAG HOT WATER BOTTLE|6       |12/1/10 8:26|3.39     |17850     |United Kingdom|\n",
      "\n",
      "|536365   |84029E   |RED WOOLLY HOTTIE WHITE HEART.     |6       |12/1/10 8:26|3.39     |17850     |United Kingdom|\n",
      "\n",
      "+---------+---------+-----------------------------------+--------+------------+---------+----------+--------------+\n",
      "\n",
      "only showing top 5 rows\n",
      "\n",
      "\n"
     ]
    }
   ],
   "source": [
    "# Code Explanation\n",
    "# - The second argument 0 specifies that the method should not truncate the displayed columns.\n",
    "# - This is useful when working with large datasets where the default behavior is to truncate the columns to fit the screen.\n",
    "# - By setting the second argument to 0, all columns will be displayed without truncation\n",
    "\n",
    "df.show(5,0)"
   ]
  },
  {
   "cell_type": "markdown",
   "metadata": {},
   "source": [
    "Veri çerçevesi 8 feature’dan oluşur:\n",
    "\n",
    "- InvoiceNo: Her müşteri faturasının benzersiz tanımlayıcısı.\n",
    "\n",
    "- StockCode: Stoktaki her öğenin benzersiz tanımlayıcısı.\n",
    "\n",
    "- Description: Müşteri tarafından satın alınan ürün.\n",
    "\n",
    "- Quantity: Bir müşteri tarafından tek bir faturada satın alınan her bir öğenin numarası.\n",
    "\n",
    "- InvoiceDate: Satın alma tarihi.\n",
    "\n",
    "- UnitPrice: Her öğeden bir birimin fiyatı.\n",
    "\n",
    "- CustomerID: Her kullanıcıya atanan benzersiz tanımlayıcı.\n",
    "\n",
    "- Country: Satın alma işleminin yapıldığı ülke"
   ]
  },
  {
   "cell_type": "markdown",
   "metadata": {},
   "source": [
    "# Adım 3: EDA (Keşifçi Veri Analizi)"
   ]
  },
  {
   "cell_type": "markdown",
   "metadata": {},
   "source": [
    "Artık bu veri kümesinde bulunan değişkenleri gördüğümüze göre, bu veri noktalarını daha iyi anlamak için bazı keşifsel veri analizi yapalım:\n",
    "\n",
    "Veri çerçevesindeki satır sayısını sayarak başlayalım:"
   ]
  },
  {
   "cell_type": "code",
   "execution_count": 248,
   "metadata": {},
   "outputs": [
    {
     "data": {
      "text/plain": [
       "2500"
      ]
     },
     "execution_count": 248,
     "metadata": {},
     "output_type": "execute_result"
    }
   ],
   "source": [
    "df.count() "
   ]
  },
  {
   "cell_type": "markdown",
   "metadata": {},
   "source": [
    "## Veri çerçevesinde kaç farklı müşteri var?"
   ]
  },
  {
   "cell_type": "code",
   "execution_count": 249,
   "metadata": {},
   "outputs": [
    {
     "data": {
      "text/plain": [
       "95"
      ]
     },
     "execution_count": 249,
     "metadata": {},
     "output_type": "execute_result"
    }
   ],
   "source": [
    "df.select('CustomerID').distinct().count()"
   ]
  },
  {
   "cell_type": "markdown",
   "metadata": {},
   "source": [
    "## Çoğu satın alma hangi ülkeden geliyor?\n",
    "\n",
    "En çok satın alımın yapıldığı ülkeyi bulmak için PySpark'ın groupBy() kullanabiliriz."
   ]
  },
  {
   "cell_type": "markdown",
   "metadata": {},
   "source": [
    "- agg() yöntemi daha sonra her gruba bir toplama işlevi uygulamak için kullanılır.\n",
    "- countDistinct() işlevi her gruptaki farklı CustomerID değerlerinin sayısını saymak için kullanılır.\n",
    "- alias() yöntemi, ortaya çıkan sütunu country_count olarak yeniden adlandırmak için kullanılır.\n",
    "- Son olarak, ortaya çıkan DataFrame'i tablo biçiminde görüntülemek için show() yöntemi kullanılır.\n",
    "\n",
    "Bu, kod sayesinde DataFrame'in Ülke sütununda her ülke için farklı müşteri sayılarını görebileceğiz."
   ]
  },
  {
   "cell_type": "code",
   "execution_count": 250,
   "metadata": {},
   "outputs": [
    {
     "name": "stdout",
     "output_type": "stream",
     "text": [
      "+--------------+-------------+\n",
      "\n",
      "|       Country|country_count|\n",
      "\n",
      "+--------------+-------------+\n",
      "\n",
      "|       Germany|            2|\n",
      "\n",
      "|        France|            1|\n",
      "\n",
      "|          EIRE|            1|\n",
      "\n",
      "|        Norway|            1|\n",
      "\n",
      "|     Australia|            1|\n",
      "\n",
      "|United Kingdom|           88|\n",
      "\n",
      "|   Netherlands|            1|\n",
      "\n",
      "+--------------+-------------+\n",
      "\n",
      "\n"
     ]
    }
   ],
   "source": [
    "df.groupBy('Country').agg(countDistinct('CustomerID').alias('country_count')).show()"
   ]
  },
  {
   "cell_type": "code",
   "execution_count": 251,
   "metadata": {},
   "outputs": [
    {
     "name": "stdout",
     "output_type": "stream",
     "text": [
      "+--------------+-------------+\n",
      "\n",
      "|       Country|country_count|\n",
      "\n",
      "+--------------+-------------+\n",
      "\n",
      "|United Kingdom|           88|\n",
      "\n",
      "|       Germany|            2|\n",
      "\n",
      "|        France|            1|\n",
      "\n",
      "|          EIRE|            1|\n",
      "\n",
      "|        Norway|            1|\n",
      "\n",
      "|     Australia|            1|\n",
      "\n",
      "|   Netherlands|            1|\n",
      "\n",
      "+--------------+-------------+\n",
      "\n",
      "\n"
     ]
    }
   ],
   "source": [
    "df.groupBy('Country').agg(countDistinct('CustomerID').alias('country_count')).orderBy(desc('country_count')).show()"
   ]
  },
  {
   "cell_type": "markdown",
   "metadata": {},
   "source": [
    "## E-ticaret platformunda bir müşteri tarafından en son satın alma ne zaman yapıldı?\n",
    "\n",
    "Platformda en son satın alma işleminin ne zaman yapıldığını bulmak için, \"InvoiceDate\" sütununu bir zaman damgası biçimine dönüştürmemiz ve Pyspark'taki max() işlevini kullanmamız gerekiyor:"
   ]
  },
  {
   "cell_type": "code",
   "execution_count": 252,
   "metadata": {},
   "outputs": [
    {
     "name": "stdout",
     "output_type": "stream",
     "text": [
      "+-------------------+\n",
      "\n",
      "|          max(date)|\n",
      "\n",
      "+-------------------+\n",
      "\n",
      "|2012-01-10 17:06:00|\n",
      "\n",
      "+-------------------+\n",
      "\n",
      "\n"
     ]
    }
   ],
   "source": [
    "spark.sql(\"set spark.sql.legacy.timeParserPolicy=LEGACY\")\n",
    "df = df.withColumn('date',to_timestamp(\"InvoiceDate\", 'yy/MM/dd HH:mm'))\n",
    "df.select(max(\"date\")).show()"
   ]
  },
  {
   "cell_type": "markdown",
   "metadata": {},
   "source": [
    "- İlk satır, spark.sql.legacy.timeParserPolicy yapılandırma özelliğini LEGACY olarak ayarlar. Bu özellik, Spark'ın SQL sorgularında zaman damgalarını nasıl ayrıştırdığını belirler. LEGACY olarak ayarlamak, Spark'ın daha yumuşak olan ve daha geniş bir zaman damgası biçimi yelpazesini işleyebilen eski zaman damgası ayrıştırma davranışını kullanacağı anlamına gelir.\n",
    "\n",
    "- İkinci satır, DataFrame df'de date adında yeni bir sütun oluşturur. Bu sütundaki değerler, df'deki InvoiceDate sütununa to_timestamp işlevi uygulanarak oluşturulur. to_timestamp için ikinci argüman, InvoiceDate'deki zaman damgası dizesinin biçimini belirtir. Bu durumda, biçim yy/MM/dd HH:mm'dir, bu da zaman damgası dizesinin iki basamaklı bir yıl (yy), ardından iki basamaklı bir ay (MM), iki basamaklı bir gün (g), iki basamaklı bir saat (HH) son olarak iki basamaklı bir dakikaya (mm) olması gerektiği anlamına gelir.\n",
    "\n",
    "- Üçüncü satır, tarih sütunundaki maksimum değeri seçer ve show() yöntemini kullanarak görüntüler.\n",
    "\n",
    "Bu satır, InvoiceDate sütununda en son tarihi etkili bir şekilde bulur ve insan tarafından okunabilir bir biçimde görüntüler."
   ]
  },
  {
   "cell_type": "markdown",
   "metadata": {},
   "source": [
    "## E-ticaret platformunda bir müşteri tarafından en erken satın alma ne zaman yapıldı?\n",
    "\n",
    "Yukarıda yaptığımıza benzer şekilde, min() işlevi en erken satın alma tarihini ve saatini bulmak için kullanılabilir."
   ]
  },
  {
   "cell_type": "code",
   "execution_count": 253,
   "metadata": {},
   "outputs": [
    {
     "name": "stdout",
     "output_type": "stream",
     "text": [
      "+-------------------+\n",
      "\n",
      "|          min(date)|\n",
      "\n",
      "+-------------------+\n",
      "\n",
      "|2012-01-10 08:26:00|\n",
      "\n",
      "+-------------------+\n",
      "\n",
      "\n"
     ]
    }
   ],
   "source": [
    "df.select(min(\"date\")).show()"
   ]
  },
  {
   "cell_type": "markdown",
   "metadata": {},
   "source": [
    "Bu yapmış olduğumuz son iki işlem ile satın alımların sadece birkaç saat arayla aynı gün yapıldığına görüyoruz. Bu, indirdiğimiz veri kümesinin yalnızca tek bir günde yapılan satın alımların bilgilerini içerdiği anlamına gelir."
   ]
  },
  {
   "cell_type": "markdown",
   "metadata": {},
   "source": [
    "# Adım 4: Veri Ön-işleme"
   ]
  },
  {
   "cell_type": "markdown",
   "metadata": {},
   "source": [
    "Artık veri kümesini analiz ettiğimize ve verimizi daha iyi anladığımıza göre, verileri makine öğrenimi algoritmasına beslemek için hazırlamamız gerekiyor.\n",
    "\n",
    "Ön işlemini yapmadan önce veri çerçevem,ze tekrar göz atalım."
   ]
  },
  {
   "cell_type": "code",
   "execution_count": 254,
   "metadata": {},
   "outputs": [
    {
     "name": "stdout",
     "output_type": "stream",
     "text": [
      "+---------+---------+-----------------------------------+--------+------------+---------+----------+--------------+-------------------+\n",
      "\n",
      "|InvoiceNo|StockCode|Description                        |Quantity|InvoiceDate |UnitPrice|CustomerID|Country       |date               |\n",
      "\n",
      "+---------+---------+-----------------------------------+--------+------------+---------+----------+--------------+-------------------+\n",
      "\n",
      "|536365   |85123A   |WHITE HANGING HEART T-LIGHT HOLDER |6       |12/1/10 8:26|2.55     |17850     |United Kingdom|2012-01-10 08:26:00|\n",
      "\n",
      "|536365   |71053    |WHITE METAL LANTERN                |6       |12/1/10 8:26|3.39     |17850     |United Kingdom|2012-01-10 08:26:00|\n",
      "\n",
      "|536365   |84406B   |CREAM CUPID HEARTS COAT HANGER     |8       |12/1/10 8:26|2.75     |17850     |United Kingdom|2012-01-10 08:26:00|\n",
      "\n",
      "|536365   |84029G   |KNITTED UNION FLAG HOT WATER BOTTLE|6       |12/1/10 8:26|3.39     |17850     |United Kingdom|2012-01-10 08:26:00|\n",
      "\n",
      "|536365   |84029E   |RED WOOLLY HOTTIE WHITE HEART.     |6       |12/1/10 8:26|3.39     |17850     |United Kingdom|2012-01-10 08:26:00|\n",
      "\n",
      "+---------+---------+-----------------------------------+--------+------------+---------+----------+--------------+-------------------+\n",
      "\n",
      "only showing top 5 rows\n",
      "\n",
      "\n"
     ]
    }
   ],
   "source": [
    "df.show(5,0)"
   ]
  },
  {
   "cell_type": "markdown",
   "metadata": {},
   "source": [
    "- Yukarıdaki veri kümesinden, her kullanıcının satın alma davranışına göre birden fazla müşteri segmenti oluşturmamız gerekiyor.\n",
    "\n",
    "- Bu veri kümesindeki değişkenler, müşteri segmentasyon modelinin kolayca anlayabileceği bir biçimde değiller. Bu özellikler bireysel olarak bize maalesef müşteri satın alma davranışı hakkında pek bir şey söyleyemiyor.\n",
    "\n",
    "Bu nedenle, mevcut değişkenler üzerinden üç yeni feature yaratacağız. - recency, frequency, and monetary value (RFM).\n",
    "\n",
    "RFM, bir müşterinin değerini aşağıdakilere göre değerlendirmek için pazarlamada yaygın olarak kullanılır:\n",
    "\n",
    "- Recency: Her müşteri ne kadar zaman önce bir satın alma işlemi yaptı?\n",
    "\n",
    "- Frequency: Ne sıklıkla bir şey satın aldılar?\n",
    "\n",
    "- Monetary Value: Alışveriş yaparken ortalama olarak ne kadar para harcıyorlar?\n",
    "\n",
    "Şimdi yukarıdaki değişkenleri oluşturmak için veri çerçevesini işleyeceğiz."
   ]
  },
  {
   "cell_type": "markdown",
   "metadata": {},
   "source": [
    "**Recency**\n",
    "\n",
    "İlk olarak, platformda bir satın alma işleminin yapıldığı en son tarih ve saati sonluk değeri olarak hesaplayalım. Bu işlemi iki adımda gerçekleştirebiliriz:\n",
    "\n",
    "I) Her müşteriye bir sonluk puanı atayalım. Veri çerçevesindeki her tarihi en erken tarihten itibaren çıkaracağız. Bu bize bir müşterinin veri çerçevesinde ne kadar zamanda yer aldığını söyleyecek. 0 değeri, en erken tarihte satın alma işlemi yapılan kişiye atanacağından, en düşük sonluğu göstermiş olacak."
   ]
  },
  {
   "cell_type": "code",
   "execution_count": 255,
   "metadata": {},
   "outputs": [],
   "source": [
    "df = df.withColumn(\"from_date\", lit(\"12/1/10 08:26\"))\n",
    "df = df.withColumn('from_date',to_timestamp(\"from_date\", 'yy/MM/dd HH:mm'))\n",
    "\n",
    "df2 = df.withColumn('recency',col(\"date\").cast(\"long\") - col('from_date').cast(\"long\"))"
   ]
  },
  {
   "cell_type": "code",
   "execution_count": 256,
   "metadata": {},
   "outputs": [
    {
     "name": "stdout",
     "output_type": "stream",
     "text": [
      "+---------+---------+--------------------+--------+------------+---------+----------+--------------+-------------------+-------------------+-------+\n",
      "\n",
      "|InvoiceNo|StockCode|         Description|Quantity| InvoiceDate|UnitPrice|CustomerID|       Country|               date|          from_date|recency|\n",
      "\n",
      "+---------+---------+--------------------+--------+------------+---------+----------+--------------+-------------------+-------------------+-------+\n",
      "\n",
      "|   536365|   85123A|WHITE HANGING HEA...|       6|12/1/10 8:26|     2.55|     17850|United Kingdom|2012-01-10 08:26:00|2012-01-10 08:26:00|      0|\n",
      "\n",
      "|   536365|    71053| WHITE METAL LANTERN|       6|12/1/10 8:26|     3.39|     17850|United Kingdom|2012-01-10 08:26:00|2012-01-10 08:26:00|      0|\n",
      "\n",
      "|   536365|   84406B|CREAM CUPID HEART...|       8|12/1/10 8:26|     2.75|     17850|United Kingdom|2012-01-10 08:26:00|2012-01-10 08:26:00|      0|\n",
      "\n",
      "|   536365|   84029G|KNITTED UNION FLA...|       6|12/1/10 8:26|     3.39|     17850|United Kingdom|2012-01-10 08:26:00|2012-01-10 08:26:00|      0|\n",
      "\n",
      "|   536365|   84029E|RED WOOLLY HOTTIE...|       6|12/1/10 8:26|     3.39|     17850|United Kingdom|2012-01-10 08:26:00|2012-01-10 08:26:00|      0|\n",
      "\n",
      "+---------+---------+--------------------+--------+------------+---------+----------+--------------+-------------------+-------------------+-------+\n",
      "\n",
      "only showing top 5 rows\n",
      "\n",
      "\n"
     ]
    }
   ],
   "source": [
    "df2.show(5)"
   ]
  },
  {
   "cell_type": "markdown",
   "metadata": {},
   "source": [
    "ii) En son satın alma işlemini seçmeliyiz\n",
    "\n",
    "Bir müşteri farklı zamanlarda birden fazla alışveriş yapabilir. Yalnızca bir ürün satın alırken en son ne zaman görüldüklerini seçmemiz gerekiyor, çünkü bu, en son satın alma işleminin ne zaman yapıldığını bize gösterecektir."
   ]
  },
  {
   "cell_type": "code",
   "execution_count": 257,
   "metadata": {},
   "outputs": [],
   "source": [
    "df2 = df2.join(df2.groupBy('CustomerID').agg(max('recency').alias('recency')),on='recency',how='leftsemi')"
   ]
  },
  {
   "cell_type": "markdown",
   "metadata": {},
   "source": [
    "Şimdi artık  \"recency\" adlı bir özniteliğe sahibiz."
   ]
  },
  {
   "cell_type": "code",
   "execution_count": 258,
   "metadata": {},
   "outputs": [
    {
     "name": "stdout",
     "output_type": "stream",
     "text": [
      "+-------+---------+---------+-------------------------------+--------+------------+---------+----------+--------------+-------------------+-------------------+\n",
      "\n",
      "|recency|InvoiceNo|StockCode|Description                    |Quantity|InvoiceDate |UnitPrice|CustomerID|Country       |date               |from_date          |\n",
      "\n",
      "+-------+---------+---------+-------------------------------+--------+------------+---------+----------+--------------+-------------------+-------------------+\n",
      "\n",
      "|540    |536369   |21756    |BATH BUILDING BLOCK WORD       |3       |12/1/10 8:35|5.95     |13047     |United Kingdom|2012-01-10 08:35:00|2012-01-10 08:26:00|\n",
      "\n",
      "|1140   |536370   |22728    |ALARM CLOCK BAKELIKE PINK      |24      |12/1/10 8:45|3.75     |12583     |France        |2012-01-10 08:45:00|2012-01-10 08:26:00|\n",
      "\n",
      "|1140   |536370   |22727    |ALARM CLOCK BAKELIKE RED       |24      |12/1/10 8:45|3.75     |12583     |France        |2012-01-10 08:45:00|2012-01-10 08:26:00|\n",
      "\n",
      "|1140   |536370   |22726    |ALARM CLOCK BAKELIKE GREEN     |12      |12/1/10 8:45|3.75     |12583     |France        |2012-01-10 08:45:00|2012-01-10 08:26:00|\n",
      "\n",
      "|1140   |536370   |21724    |PANDA AND BUNNIES STICKER SHEET|12      |12/1/10 8:45|0.85     |12583     |France        |2012-01-10 08:45:00|2012-01-10 08:26:00|\n",
      "\n",
      "+-------+---------+---------+-------------------------------+--------+------------+---------+----------+--------------+-------------------+-------------------+\n",
      "\n",
      "only showing top 5 rows\n",
      "\n",
      "\n"
     ]
    }
   ],
   "source": [
    "df2.show(5,0)"
   ]
  },
  {
   "cell_type": "markdown",
   "metadata": {},
   "source": [
    "Bir PySpark veri çerçevesinde bulunan tüm değişkenleri görüntülemenin daha kolay bir yolu, printSchema() işlevini kullanmaktır. Bu, Pandas'taki info() işlevinin eşdeğeridir:"
   ]
  },
  {
   "cell_type": "code",
   "execution_count": 259,
   "metadata": {},
   "outputs": [
    {
     "name": "stdout",
     "output_type": "stream",
     "text": [
      "root\n",
      "\n",
      " |-- recency: long (nullable = true)\n",
      "\n",
      " |-- InvoiceNo: string (nullable = true)\n",
      "\n",
      " |-- StockCode: string (nullable = true)\n",
      "\n",
      " |-- Description: string (nullable = true)\n",
      "\n",
      " |-- Quantity: string (nullable = true)\n",
      "\n",
      " |-- InvoiceDate: string (nullable = true)\n",
      "\n",
      " |-- UnitPrice: string (nullable = true)\n",
      "\n",
      " |-- CustomerID: string (nullable = true)\n",
      "\n",
      " |-- Country: string (nullable = true)\n",
      "\n",
      " |-- date: timestamp (nullable = true)\n",
      "\n",
      " |-- from_date: timestamp (nullable = true)\n",
      "\n",
      "\n"
     ]
    }
   ],
   "source": [
    "df2.printSchema()"
   ]
  },
  {
   "cell_type": "markdown",
   "metadata": {},
   "source": [
    "**Frequency**\n",
    "\n",
    "Şimdi bir müşterinin platformda ne sıklıkta bir şey satın aldığını hesaplayalım. Bunu yapmak için, her müşteriyi gruplamamız ve satın aldıkları ürün sayılarına bakmamız gerekiyor."
   ]
  },
  {
   "cell_type": "code",
   "execution_count": 260,
   "metadata": {},
   "outputs": [],
   "source": [
    "df_freq = df2.groupBy('CustomerID').agg(count('InvoiceDate').alias('frequency'))"
   ]
  },
  {
   "cell_type": "code",
   "execution_count": 261,
   "metadata": {},
   "outputs": [
    {
     "name": "stdout",
     "output_type": "stream",
     "text": [
      "+----------+---------+\n",
      "\n",
      "|CustomerID|frequency|\n",
      "\n",
      "+----------+---------+\n",
      "\n",
      "|16250     |14       |\n",
      "\n",
      "|15100     |1        |\n",
      "\n",
      "|13065     |14       |\n",
      "\n",
      "|12838     |59       |\n",
      "\n",
      "|15350     |5        |\n",
      "\n",
      "+----------+---------+\n",
      "\n",
      "only showing top 5 rows\n",
      "\n",
      "\n"
     ]
    }
   ],
   "source": [
    "df_freq.show(5,0)"
   ]
  },
  {
   "cell_type": "code",
   "execution_count": 262,
   "metadata": {},
   "outputs": [],
   "source": [
    "df3 = df2.join(df_freq,on='CustomerID',how='inner')"
   ]
  },
  {
   "cell_type": "code",
   "execution_count": 263,
   "metadata": {},
   "outputs": [
    {
     "name": "stdout",
     "output_type": "stream",
     "text": [
      "root\n",
      "\n",
      " |-- CustomerID: string (nullable = true)\n",
      "\n",
      " |-- recency: long (nullable = true)\n",
      "\n",
      " |-- InvoiceNo: string (nullable = true)\n",
      "\n",
      " |-- StockCode: string (nullable = true)\n",
      "\n",
      " |-- Description: string (nullable = true)\n",
      "\n",
      " |-- Quantity: string (nullable = true)\n",
      "\n",
      " |-- InvoiceDate: string (nullable = true)\n",
      "\n",
      " |-- UnitPrice: string (nullable = true)\n",
      "\n",
      " |-- Country: string (nullable = true)\n",
      "\n",
      " |-- date: timestamp (nullable = true)\n",
      "\n",
      " |-- from_date: timestamp (nullable = true)\n",
      "\n",
      " |-- frequency: long (nullable = false)\n",
      "\n",
      "\n"
     ]
    }
   ],
   "source": [
    "df3.printSchema()"
   ]
  },
  {
   "attachments": {},
   "cell_type": "markdown",
   "metadata": {},
   "source": [
    "**Monetary Value**\n",
    "\n",
    "Son olarak, her müşterinin harcadığı toplam tutarı - parasal değeri hesaplayalım. Bunu yapmak için iki adım izleyebiliriz:\n",
    "\n",
    "I) Her satın alma işleminde harcanan toplam tutarı bulalım: Her müşteri kimliği, tek bir satın alma için \"Miktar\" ve \"Birim Fiyatı\" adı verilen değişkenlerle birlikte geliyor:\n",
    "\n",
    "- Her bir müşterinin harcanan toplam tutarını elde etmek için \"Miktar\"ı \"Birim Fiyatı\" ile çarpmamız gerekir:"
   ]
  },
  {
   "cell_type": "code",
   "execution_count": 264,
   "metadata": {},
   "outputs": [],
   "source": [
    "m_val = df3.withColumn('TotalAmount',col(\"Quantity\") * col(\"UnitPrice\"))"
   ]
  },
  {
   "cell_type": "markdown",
   "metadata": {},
   "source": [
    "ii) Her müşteri tarafından harcanan toplam tutarı bulun:\n",
    "\n",
    "Genel olarak her bir müşterinin harcadığı toplam tutarı bulmak için, Müşteri Kimliği sütununa göre gruplamamız ve harcanan toplam tutarı toplamamız yeterlidir:"
   ]
  },
  {
   "cell_type": "code",
   "execution_count": 265,
   "metadata": {},
   "outputs": [],
   "source": [
    "m_val = m_val.groupBy('CustomerID').agg(sum('TotalAmount').alias('monetary_value'))"
   ]
  },
  {
   "cell_type": "markdown",
   "metadata": {},
   "source": [
    "Bu veri çerçevesini diğer tüm değişkenlerle birleştirelim:"
   ]
  },
  {
   "cell_type": "code",
   "execution_count": 266,
   "metadata": {},
   "outputs": [],
   "source": [
    "finaldf = m_val.join(df3,on='CustomerID',how='inner')"
   ]
  },
  {
   "cell_type": "markdown",
   "metadata": {},
   "source": [
    "Artık modeli oluşturmak için gerekli tüm öznitelikleri oluşturduğumuza göre, yalnızca gerekli sütunları alalım:"
   ]
  },
  {
   "cell_type": "code",
   "execution_count": 267,
   "metadata": {},
   "outputs": [],
   "source": [
    "finaldf = finaldf.select(['recency','frequency','monetary_value','CustomerID']).distinct()"
   ]
  },
  {
   "cell_type": "code",
   "execution_count": 268,
   "metadata": {},
   "outputs": [
    {
     "name": "stdout",
     "output_type": "stream",
     "text": [
      "+-------+---------+------------------+----------+\n",
      "\n",
      "|recency|frequency|monetary_value    |CustomerID|\n",
      "\n",
      "+-------+---------+------------------+----------+\n",
      "\n",
      "|5580   |14       |226.14            |16250     |\n",
      "\n",
      "|2580   |1        |350.4             |15100     |\n",
      "\n",
      "|30360  |14       |205.85999999999999|13065     |\n",
      "\n",
      "|12660  |59       |390.78999999999985|12838     |\n",
      "\n",
      "|18420  |5        |115.65            |15350     |\n",
      "\n",
      "+-------+---------+------------------+----------+\n",
      "\n",
      "only showing top 5 rows\n",
      "\n",
      "\n"
     ]
    }
   ],
   "source": [
    "finaldf.show(5, 0)"
   ]
  },
  {
   "cell_type": "markdown",
   "metadata": {},
   "source": [
    "**Standartlaştırma**\n",
    "\n",
    "Müşteri segmentasyon modelini oluşturmadan önce, tüm değişkenlerin aynı ölçekte olduğundan emin olmak için veri çerçevesini standartlaştıralım:"
   ]
  },
  {
   "cell_type": "code",
   "execution_count": 269,
   "metadata": {},
   "outputs": [],
   "source": [
    "assemble=VectorAssembler(inputCols=[\n",
    "    'recency','frequency','monetary_value'\n",
    "], outputCol='features')\n",
    "\n",
    "assembled_data=assemble.transform(finaldf)\n",
    "\n",
    "scale=StandardScaler(inputCol='features',outputCol='standardized')\n",
    "data_scale=scale.fit(assembled_data)\n",
    "data_scale_output=data_scale.transform(assembled_data)"
   ]
  },
  {
   "cell_type": "markdown",
   "metadata": {},
   "source": [
    "- Üç giriş sütununu (recency, frequency ve monetary_value) alan ve features adı verilen tek bir sütun çıkaran assemble adlı bir VectorAssembler nesnesi oluşturalım.\n",
    "\n",
    "- Ardından, transform yöntemini kullanarak assemble dönüşümünü finaldf veri kümesine uygulayalım ve sonucu assembled_data'da saklayalım.\n",
    "\n",
    "- Bundan sonra, assembled_data'dan özellikler sütununu alan ve standardized adlı yeni bir sütun çıkaran scale adlı bir StandardScaler nesnesi oluşturalım.\n",
    "\n",
    "Son olarak, fit edelim ve sonucu data_scale_output'ta saklayalım."
   ]
  },
  {
   "cell_type": "markdown",
   "metadata": {},
   "source": [
    "Standartlaştırılmış özellik vektörü aşağıdaki gibidir:"
   ]
  },
  {
   "cell_type": "code",
   "execution_count": 270,
   "metadata": {},
   "outputs": [
    {
     "name": "stdout",
     "output_type": "stream",
     "text": [
      "+-----------------------------------------------------------+\n",
      "\n",
      "|standardized                                               |\n",
      "\n",
      "+-----------------------------------------------------------+\n",
      "\n",
      "|[0.6860448646904733,0.6848507976304105,0.45968090513788235]|\n",
      "\n",
      "|[0.3172035395880683,0.04891791411645789,0.7122675738936676]|\n",
      "\n",
      "+-----------------------------------------------------------+\n",
      "\n",
      "only showing top 2 rows\n",
      "\n",
      "\n"
     ]
    }
   ],
   "source": [
    "data_scale_output.select('standardized').show(2,truncate=False)"
   ]
  },
  {
   "cell_type": "markdown",
   "metadata": {},
   "source": [
    "# Adım 5: Makine Öğrenmesi Modeli"
   ]
  },
  {
   "cell_type": "markdown",
   "metadata": {},
   "source": [
    "Artık tüm veri analizini ve hazırlığını tamamladığımıza göre, K-Means kümeleme modelini oluşturabiliriz.\n",
    "\n",
    "Algoritmayı, PySpark'ın makine öğrenimi API'si kullanılarak oluşturacağız.\n",
    "\n",
    "I) Kullanılacak K değerini bulma\n",
    "\n",
    "Bir K-Means kümeleme modeli oluştururken, öncelikle algoritmanın döndürmesini istediğimiz küme veya grup sayısını belirlememiz gerekir. Örneğin üç kümeye karar verirsek, o zaman üç müşteri segmentimiz olacaktır.\n",
    "\n",
    "K-Means'de kaç kümenin kullanılacağına karar vermek için kullanılan en popüler teknik \"elbow yöntemi\"'dur. \n",
    "\n",
    "Bu, birçok kere K-Means algoritmasını çalıştırarak her küme için model sonuçlarını görselleştirir. Bu sayede optimum K sayısı ile dirsek yapılan noktadır.\n",
    "\n",
    "2 ila 10 küme arasında bir K-Means kümeleme algoritmasını deniyelim:"
   ]
  },
  {
   "cell_type": "code",
   "execution_count": 271,
   "metadata": {},
   "outputs": [],
   "source": [
    "cost = np.zeros(10)\n",
    "\n",
    "evaluator = ClusteringEvaluator(predictionCol='prediction', featuresCol='standardized',metricName='silhouette', distanceMeasure='squaredEuclidean')\n",
    "\n",
    "for i in range(2,10):\n",
    "    KMeans_algo=KMeans(featuresCol='standardized', k=i)\n",
    "    KMeans_fit=KMeans_algo.fit(data_scale_output)\n",
    "    output=KMeans_fit.transform(data_scale_output)\n",
    "    cost[i] = KMeans_fit.summary.trainingCost"
   ]
  },
  {
   "cell_type": "markdown",
   "metadata": {},
   "source": [
    "Yukarıdaki kodlarla, 2 ila 10 kümeli bir K-Means kümeleme modelini başarıyla oluşturduk ve değerlendirdik. Sonuçlar bir diziye yerleştirildi ve artık bir çizgi grafikte görselleştirilebilir."
   ]
  },
  {
   "cell_type": "code",
   "execution_count": 272,
   "metadata": {},
   "outputs": [
    {
     "data": {
      "image/png": "[encoded data removed]",
      "text/plain": [
       "<Figure size 432x288 with 1 Axes>"
      ]
     },
     "metadata": {
      "needs_background": "light"
     },
     "output_type": "display_data"
    }
   ],
   "source": [
    "df_cost = pd.DataFrame(cost[2:])\n",
    "df_cost.columns = [\"cost\"]\n",
    "new_col = range(2,10)\n",
    "df_cost.insert(0, 'cluster', new_col)\n",
    "pl.plot(df_cost.cluster, df_cost.cost)\n",
    "pl.xlabel('Number of Clusters')\n",
    "pl.ylabel('Score')\n",
    "pl.title('Elbow Curve')\n",
    "pl.show()"
   ]
  },
  {
   "cell_type": "markdown",
   "metadata": {},
   "source": [
    "**ii) K-Means Kümeleme Modelini Oluşturma**\n",
    "\n",
    "K-Means algoritmasını dört küme ile oluşturacağız."
   ]
  },
  {
   "cell_type": "code",
   "execution_count": 273,
   "metadata": {},
   "outputs": [],
   "source": [
    "KMeans_algo=KMeans(featuresCol='standardized', k=4)\n",
    "KMeans_fit=KMeans_algo.fit(data_scale_output)"
   ]
  },
  {
   "cell_type": "markdown",
   "metadata": {},
   "source": [
    "**iii) Müşterilerimiz İçin Tahmin Yapalım.**\n",
    "\n",
    "Veri kümesindeki her müşteriye kümeler atamak için oluşturduğumuz modeli kullanalım:"
   ]
  },
  {
   "cell_type": "code",
   "execution_count": 274,
   "metadata": {},
   "outputs": [
    {
     "name": "stdout",
     "output_type": "stream",
     "text": [
      "+-------+---------+------------------+----------+---------------------------------+-----------------------------------------------------------+----------+\n",
      "\n",
      "|recency|frequency|monetary_value    |CustomerID|features                         |standardized                                               |prediction|\n",
      "\n",
      "+-------+---------+------------------+----------+---------------------------------+-----------------------------------------------------------+----------+\n",
      "\n",
      "|5580   |14       |226.14            |16250     |[5580.0,14.0,226.14]             |[0.6860448646904733,0.6848507976304105,0.45968090513788235]|0         |\n",
      "\n",
      "|2580   |1        |350.4             |15100     |[2580.0,1.0,350.4]               |[0.3172035395880683,0.04891791411645789,0.7122675738936676]|0         |\n",
      "\n",
      "|30360  |14       |205.85999999999999|13065     |[30360.0,14.0,205.85999999999999]|[3.732674210036339,0.6848507976304105,0.4184571996625297]  |2         |\n",
      "\n",
      "|12660  |59       |390.78999999999985|12838     |[12660.0,59.0,390.78999999999985]|[1.556510391932149,2.8861569328710157,0.7943694212383169]  |3         |\n",
      "\n",
      "|18420  |5        |115.65            |15350     |[18420.0,5.0,115.65]             |[2.264685736128767,0.24458957058228947,0.23508488847261033]|2         |\n",
      "\n",
      "+-------+---------+------------------+----------+---------------------------------+-----------------------------------------------------------+----------+\n",
      "\n",
      "only showing top 5 rows\n",
      "\n",
      "\n"
     ]
    }
   ],
   "source": [
    "preds=KMeans_fit.transform(data_scale_output)\n",
    "\n",
    "preds.show(5,0)"
   ]
  },
  {
   "cell_type": "markdown",
   "metadata": {},
   "source": [
    "# Adım 6: Küme Analizi\n",
    "\n",
    "Son olarak, yeni oluşturduğumuz müşteri segmentlerini analiz edelim.\n",
    "\n",
    "Veri çerçevesindeki her bir müşteri kimliğinin recency, frequency ve monetary_value'ini görselleştirelim."
   ]
  },
  {
   "cell_type": "code",
   "execution_count": 275,
   "metadata": {},
   "outputs": [
    {
     "data": {
      "image/png": "[encoded data removed]",
      "text/plain": [
       "<Figure size 432x288 with 1 Axes>"
      ]
     },
     "metadata": {
      "needs_background": "light"
     },
     "output_type": "display_data"
    },
    {
     "data": {
      "image/png": "[encoded data removed]",
      "text/plain": [
       "<Figure size 432x288 with 1 Axes>"
      ]
     },
     "metadata": {
      "needs_background": "light"
     },
     "output_type": "display_data"
    },
    {
     "data": {
      "image/png": "[encoded data removed]",
      "text/plain": [
       "<Figure size 432x288 with 1 Axes>"
      ]
     },
     "metadata": {
      "needs_background": "light"
     },
     "output_type": "display_data"
    }
   ],
   "source": [
    "df_viz = preds.select('recency','frequency','monetary_value','prediction')\n",
    "df_viz = df_viz.toPandas()\n",
    "avg_df = df_viz.groupby(['prediction'], as_index=False).mean()\n",
    "\n",
    "list1 = ['recency','frequency','monetary_value']\n",
    "\n",
    "for i in list1:\n",
    "    sns.barplot(x='prediction',y=str(i),data=avg_df)\n",
    "    plt.show()"
   ]
  },
  {
   "cell_type": "markdown",
   "metadata": {},
   "source": [
    "İşte her kümede müşteriler tarafından görüntülenen özelliklere genel bir bakış:\n",
    "\n",
    "**Küme 0**: Bu segmentteki müşteriler düşük yenilik, sıklık ve parasal değer göstermekteler. Platformda nadiren alışveriş yapmışlar ve e-ticaret şirketiyle iş yapmayı bırakma olasılığı düşük potansiyelli müşterilerdir.\n",
    "\n",
    "**Küme 1**: Bu kümedeki kullanıcılar yüksek yenilik gösteriyor ancak platformda fazla harcama yapmamışlardır. Ayrıca siteyi sık sık ziyaret de etmemektedirler. Bu, şirketle iş yapmaya yeni başlayan, daha yeni müşteriler olabileceklerini söyleyebiliriz.\n",
    "\n",
    "**Küme 2**: Bu segmentteki müşteriler orta düzeyde yenilik ve sıklık göstermekte ve platformda çok para harcamaktalar. Bu, yüksek değerli ürünler satın alma veya toplu alım yapma eğiliminde olduklarını göstermektedir.\n",
    "\n",
    "**Küme 3**: Son segment, yüksek yenilik gösteren ve platformda sık sık alışveriş yapan kullanıcıları içermektedir. Bununla birlikte, platformda fazla harcama yapmamakla birlikte, her satın alımda daha ucuz ürünler seçme eğiliminde oldukları anlamına da gelebilmektedir."
   ]
  }
 ],
 "metadata": {
  "kernelspec": {
   "display_name": "Python 3 (ipykernel)",
   "language": "python",
   "name": "python3"
  },
  "language_info": {
   "codemirror_mode": {
    "name": "ipython",
    "version": 3
   },
   "file_extension": ".py",
   "mimetype": "text/x-python",
   "name": "python",
   "nbconvert_exporter": "python",
   "pygments_lexer": "ipython3",
   "version": "3.10.9"
  },
  "vscode": {
   "interpreter": {
    "hash": "d12a6980af1de3549060b7b451d48d445ec6b4aaeaf0b0e12a509d2182e95745"
   }
  }
 },
 "nbformat": 4,
 "nbformat_minor": 4
}
